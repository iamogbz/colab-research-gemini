{
  "cells": [
    {
      "cell_type": "markdown",
      "metadata": {
        "id": "view-in-github",
        "colab_type": "text"
      },
      "source": [
        "<a href=\"https://colab.research.google.com/github/iamogbz/colab-research-gemini/blob/main/research.ipynb\" target=\"_parent\"><img src=\"https://colab.research.google.com/assets/colab-badge.svg\" alt=\"Open In Colab\"/></a>"
      ]
    },
    {
      "cell_type": "markdown",
      "metadata": {
        "id": "yob8kLEZeUzF"
      },
      "source": [
        "## Gemini: Connecting to Gemini\n",
        "\n",
        "The Gemini API allows you to connect to Google's most powerful multi-modal model. This example configures your API key and sends an example message to the API and prints a response.\n",
        "\n",
        "Before you start, visit https://aistudio.google.com/app/apikey to create an API key."
      ]
    },
    {
      "cell_type": "code",
      "execution_count": 1,
      "metadata": {
        "id": "eJ2d2cIhcmyw"
      },
      "outputs": [],
      "source": [
        "# @title Configure Gemini API key\n",
        "\n",
        "import google.generativeai as genai\n",
        "from google.colab import userdata\n",
        "\n",
        "gemini_api_secret_name = 'GOOGLE_API_KEY'  # @param {type: \"string\"}\n",
        "\n",
        "try:\n",
        "  GOOGLE_API_KEY=userdata.get(gemini_api_secret_name)\n",
        "  genai.configure(api_key=GOOGLE_API_KEY)\n",
        "except userdata.SecretNotFoundError as e:\n",
        "   print(f'Secret not found\\n\\nThis expects you to create a secret named {gemini_api_secret_name} in Colab\\n\\nVisit https://aistudio.google.com/app/apikey to create an API key\\n\\nStore that in the secrets section on the left side of the notebook (key icon)\\n\\nName the secret {gemini_api_secret_name}')\n",
        "   raise e\n",
        "except userdata.NotebookAccessError as e:\n",
        "  print(f'You need to grant this notebook access to the {gemini_api_secret_name} secret in order for the notebook to access Gemini on your behalf.')\n",
        "  raise e\n",
        "except Exception as e:\n",
        "  print(f\"There was an unknown error. Ensure you have a secret {gemini_api_secret_name} stored in Colab and it's a valid key from https://aistudio.google.com/app/apikey\")\n",
        "  raise e"
      ]
    },
    {
      "cell_type": "code",
      "source": [
        "# @title Generate Steps For Researching Topic\n",
        "\n",
        "import json\n",
        "\n",
        "\n",
        "system_instructions = 'You are a helpful research assistant' # @param {type: \"string\"}\n",
        "model = 'gemini-1.5-flash' # @param {type: \"string\"} [\"gemini-1.0-pro\", \"gemini-1.5-pro\", \"gemini-1.5-flash\"]\n",
        "temperature = 0.5 # @param {type: \"slider\", min: 0, max: 2, step: 0.05}\n",
        "# stop_sequence = '' # @param {type: \"string\"}\n",
        "\n",
        "if model == 'gemini-1.0-pro' and system_instructions is not None:\n",
        "  system_instructions = None\n",
        "  print('\\x1b[31m(WARNING: System instructions ignored, gemini-1.0-pro does not support system instructions)\\x1b[0m')\n",
        "\n",
        "if model == 'gemini-1.0-pro' and temperature > 1:\n",
        "  temperature = 1\n",
        "  print('\\x1b[34m(INFO: Temperature set to 1, gemini-1.0-pro does not support temperature > 1)\\x1b[0m')\n",
        "\n",
        "if system_instructions == '':\n",
        "  system_instructions = None\n",
        "\n",
        "model = genai.GenerativeModel(model, system_instruction=system_instructions)\n",
        "config = genai.GenerationConfig(temperature=temperature, stop_sequences=[])\n",
        "\n",
        "\n",
        "def generate_research_steps(topic_title):\n",
        "    prompt = f\"\"\"\n",
        "    Generate a detailed list of steps a researcher should take to create a satisfactory response paper on the topic: \"{topic_title}\".\n",
        "    The steps should be organized and numbered.  Include considerations for literature review, methodology, data collection (if applicable), analysis, and writing.\n",
        "    Only output the steps in order and nothing else in the format of a plain JSON array string without markdown.\n",
        "    Where each item is the step as plain text with no formatting or numbering.\n",
        "    \"\"\"\n",
        "\n",
        "    try:\n",
        "        response = model.generate_content(contents=[prompt], generation_config=config)\n",
        "        return response.text\n",
        "    except Exception as e:\n",
        "        print(f\"An error occurred: {e}\")\n",
        "        return None\n",
        "\n",
        "# Usage\n",
        "topic = \"Automated Investigation and Research Assistants - Towards AI-powered Knowledge Discovery\"  # @param {type: \"string\"}\n",
        "research_steps_raw = generate_research_steps(topic)\n",
        "\n",
        "if research_steps_raw:\n",
        "    print(\"Research steps generated successfully:\")\n",
        "    print(research_steps_raw)\n",
        "    research_steps = json.loads(\"\\n\".join(research_steps_raw.splitlines()[1:-1]))\n",
        "else:\n",
        "    print(\"Research steps generation failed.\")"
      ],
      "metadata": {
        "id": "4WaoyB8wXQZM",
        "outputId": "6bcaa4e3-7eeb-4176-df7a-308fd72282ff",
        "colab": {
          "base_uri": "https://localhost:8080/",
          "height": 394
        }
      },
      "execution_count": 16,
      "outputs": [
        {
          "output_type": "stream",
          "name": "stdout",
          "text": [
            "Research steps generated successfully:\n",
            "```json\n",
            "[\n",
            "\"Define the scope and focus of your response paper: Identify the specific aspects of \\\"Automated Investigation and Research Assistants - Towards AI-powered Knowledge Discovery\\\" that you will address. This could include specific AI techniques, applications, ethical considerations, or limitations.\",\n",
            "\"Conduct a thorough literature review: Systematically search for and analyze relevant research papers, articles, books, and other scholarly resources related to AI-powered research assistants.  Focus on both the technical aspects and the broader implications.\",\n",
            "\"Identify key themes and arguments in the existing literature: Summarize the main findings, debates, and perspectives on AI-powered knowledge discovery from your literature review.\",\n",
            "\"Develop a clear thesis statement: Based on your literature review, formulate a concise and focused thesis statement that articulates the central argument or perspective of your response paper.\",\n",
            "\"Structure your response paper: Outline the logical flow of your arguments, including an introduction, body paragraphs, and a conclusion.  Consider using a thematic or chronological approach.\",\n",
            "\"Write the introduction: Provide background information on AI-powered research assistants, introduce the key themes you will discuss, and state your thesis statement clearly.\",\n",
            "\"Develop the body paragraphs:  Present your analysis and arguments, supporting your claims with evidence from the literature.  Address both the strengths and weaknesses of existing research and technologies.\",\n",
            "\"Critically evaluate the existing research:  Analyze the methodologies, data, and conclusions of relevant studies. Identify any gaps, limitations, or biases in the current research.\",\n",
            "\"Discuss potential future directions:  Explore promising avenues for future research and development in the field of AI-powered research assistants.\",\n",
            "\"Address ethical considerations:  Discuss the potential ethical implications of using AI for research, such as bias, fairness, transparency, and accountability.\",\n",
            "\"Write the conclusion: Summarize your main findings, restate your thesis in a new way, and offer concluding thoughts on the future of AI-powered knowledge discovery.\",\n",
            "\"Revise and edit your response paper: Carefully review your paper for clarity, coherence, grammar, and style.  Seek feedback from peers or mentors.\",\n",
            "\"Proofread your response paper: Check for any remaining errors in grammar, spelling, punctuation, and formatting.\",\n",
            "\"Prepare the final version of your response paper: Format your paper according to the specified guidelines and submit it.\"\n",
            "]\n",
            "```\n",
            "\n"
          ]
        }
      ]
    }
  ],
  "metadata": {
    "colab": {
      "provenance": [],
      "include_colab_link": true
    },
    "kernelspec": {
      "display_name": "Python 3",
      "name": "python3"
    },
    "language_info": {
      "name": "python"
    }
  },
  "nbformat": 4,
  "nbformat_minor": 0
}